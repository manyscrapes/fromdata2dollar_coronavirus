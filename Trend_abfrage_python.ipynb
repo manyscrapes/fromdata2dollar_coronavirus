{
 "cells": [
  {
   "cell_type": "markdown",
   "metadata": {},
   "source": [
    "Tweepy get Trends based on location"
   ]
  },
  {
   "cell_type": "markdown",
   "metadata": {},
   "source": [
    "Set up secret stuff"
   ]
  },
  {
   "cell_type": "code",
   "execution_count": 1,
   "metadata": {},
   "outputs": [],
   "source": [
    "consumer_key = \"x\"\n",
    "consumer_secret = \"x\"\n",
    "access_token = \"x\"\n",
    "access_token_secret = \"x\"\n",
    "\n",
    "\n",
    "\n"
   ]
  },
  {
   "cell_type": "code",
   "execution_count": 12,
   "metadata": {},
   "outputs": [],
   "source": [
    "import sys\n",
    "import json\n",
    "import pandas"
   ]
  },
  {
   "cell_type": "markdown",
   "metadata": {},
   "source": [
    "Tweepy Set up"
   ]
  },
  {
   "cell_type": "code",
   "execution_count": 5,
   "metadata": {},
   "outputs": [],
   "source": [
    "import tweepy\n",
    "\n",
    "auth = tweepy.OAuthHandler(consumer_key, consumer_secret)\n",
    "auth.set_access_token(access_token, access_token_secret)\n",
    "\n",
    "api = tweepy.API(auth)"
   ]
  },
  {
   "cell_type": "markdown",
   "metadata": {},
   "source": [
    "get tweets\n",
    "und speichere diese in einem File"
   ]
  },
  {
   "cell_type": "code",
   "execution_count": 17,
   "metadata": {},
   "outputs": [],
   "source": [
    "Germany_WOE_ID = 23424829\n",
    "test = {}\n",
    "\n",
    "test = api.trends_place(Germany_WOE_ID)"
   ]
  },
  {
   "cell_type": "code",
   "execution_count": 20,
   "metadata": {
    "scrolled": false
   },
   "outputs": [
    {
     "name": "stdout",
     "output_type": "stream",
     "text": [
      "[{'trends': [{'name': '#Naidoo', 'url': 'http://twitter.com/search?q=%23Naidoo', 'promoted_content': None, 'query': '%23Naidoo', 'tweet_volume': None}, {'name': 'Bergfest', 'url': 'http://twitter.com/search?q=Bergfest', 'promoted_content': None, 'query': 'Bergfest', 'tweet_volume': None}, {'name': 'wochenteiler', 'url': 'http://twitter.com/search?q=wochenteiler', 'promoted_content': None, 'query': 'wochenteiler', 'tweet_volume': None}, {'name': '#Fukushima', 'url': 'http://twitter.com/search?q=%23Fukushima', 'promoted_content': None, 'query': '%23Fukushima', 'tweet_volume': None}, {'name': '#TheMaskedSinger', 'url': 'http://twitter.com/search?q=%23TheMaskedSinger', 'promoted_content': None, 'query': '%23TheMaskedSinger', 'tweet_volume': 14931}, {'name': '#Corona', 'url': 'http://twitter.com/search?q=%23Corona', 'promoted_content': None, 'query': '%23Corona', 'tweet_volume': 347698}, {'name': '#FlattenTheCurve', 'url': 'http://twitter.com/search?q=%23FlattenTheCurve', 'promoted_content': None, 'query': '%23FlattenTheCurve', 'tweet_volume': 24867}, {'name': 'Zuschauer', 'url': 'http://twitter.com/search?q=Zuschauer', 'promoted_content': None, 'query': 'Zuschauer', 'tweet_volume': None}, {'name': 'Chuck Norris', 'url': 'http://twitter.com/search?q=%22Chuck+Norris%22', 'promoted_content': None, 'query': '%22Chuck+Norris%22', 'tweet_volume': 31544}, {'name': 'Veranstaltungen', 'url': 'http://twitter.com/search?q=Veranstaltungen', 'promoted_content': None, 'query': 'Veranstaltungen', 'tweet_volume': 11378}, {'name': 'Italien', 'url': 'http://twitter.com/search?q=Italien', 'promoted_content': None, 'query': 'Italien', 'tweet_volume': 32144}, {'name': 'Virus', 'url': 'http://twitter.com/search?q=Virus', 'promoted_content': None, 'query': 'Virus', 'tweet_volume': 2277544}, {'name': 'Italy', 'url': 'http://twitter.com/search?q=Italy', 'promoted_content': None, 'query': 'Italy', 'tweet_volume': 576620}, {'name': 'Chamäleon', 'url': 'http://twitter.com/search?q=Cham%C3%A4leon', 'promoted_content': None, 'query': 'Cham%C3%A4leon', 'tweet_volume': None}, {'name': 'Maßnahmen', 'url': 'http://twitter.com/search?q=Ma%C3%9Fnahmen', 'promoted_content': None, 'query': 'Ma%C3%9Fnahmen', 'tweet_volume': None}, {'name': 'Dieter Nuhr', 'url': 'http://twitter.com/search?q=%22Dieter+Nuhr%22', 'promoted_content': None, 'query': '%22Dieter+Nuhr%22', 'tweet_volume': None}, {'name': 'Föderalismus', 'url': 'http://twitter.com/search?q=F%C3%B6deralismus', 'promoted_content': None, 'query': 'F%C3%B6deralismus', 'tweet_volume': None}, {'name': 'Judith Williams', 'url': 'http://twitter.com/search?q=%22Judith+Williams%22', 'promoted_content': None, 'query': '%22Judith+Williams%22', 'tweet_volume': None}, {'name': 'Wuschel', 'url': 'http://twitter.com/search?q=Wuschel', 'promoted_content': None, 'query': 'Wuschel', 'tweet_volume': None}, {'name': 'Tottenham', 'url': 'http://twitter.com/search?q=Tottenham', 'promoted_content': None, 'query': 'Tottenham', 'tweet_volume': 102448}, {'name': 'Schulen', 'url': 'http://twitter.com/search?q=Schulen', 'promoted_content': None, 'query': 'Schulen', 'tweet_volume': None}, {'name': 'Wettbewerbsverzerrung', 'url': 'http://twitter.com/search?q=Wettbewerbsverzerrung', 'promoted_content': None, 'query': 'Wettbewerbsverzerrung', 'tweet_volume': None}, {'name': 'Homeoffice', 'url': 'http://twitter.com/search?q=Homeoffice', 'promoted_content': None, 'query': 'Homeoffice', 'tweet_volume': None}, {'name': 'Gesundheitssystem', 'url': 'http://twitter.com/search?q=Gesundheitssystem', 'promoted_content': None, 'query': 'Gesundheitssystem', 'tweet_volume': None}, {'name': 'Wachstum', 'url': 'http://twitter.com/search?q=Wachstum', 'promoted_content': None, 'query': 'Wachstum', 'tweet_volume': None}, {'name': 'didi hallervorden', 'url': 'http://twitter.com/search?q=%22didi+hallervorden%22', 'promoted_content': None, 'query': '%22didi+hallervorden%22', 'tweet_volume': None}, {'name': 'Wirtschaft', 'url': 'http://twitter.com/search?q=Wirtschaft', 'promoted_content': None, 'query': 'Wirtschaft', 'tweet_volume': 10276}, {'name': 'ausbreitung', 'url': 'http://twitter.com/search?q=ausbreitung', 'promoted_content': None, 'query': 'ausbreitung', 'tweet_volume': None}, {'name': 'ruth moschner', 'url': 'http://twitter.com/search?q=%22ruth+moschner%22', 'promoted_content': None, 'query': '%22ruth+moschner%22', 'tweet_volume': None}, {'name': 'Kakerlake', 'url': 'http://twitter.com/search?q=Kakerlake', 'promoted_content': None, 'query': 'Kakerlake', 'tweet_volume': None}, {'name': '#RBLTOT', 'url': 'http://twitter.com/search?q=%23RBLTOT', 'promoted_content': None, 'query': '%23RBLTOT', 'tweet_volume': 26433}, {'name': '#RBLSPURS', 'url': 'http://twitter.com/search?q=%23RBLSPURS', 'promoted_content': None, 'query': '%23RBLSPURS', 'tweet_volume': 10751}, {'name': '#Warzone', 'url': 'http://twitter.com/search?q=%23Warzone', 'promoted_content': None, 'query': '%23Warzone', 'tweet_volume': 61411}, {'name': '#Geisterspiele', 'url': 'http://twitter.com/search?q=%23Geisterspiele', 'promoted_content': None, 'query': '%23Geisterspiele', 'tweet_volume': None}, {'name': '#Fler', 'url': 'http://twitter.com/search?q=%23Fler', 'promoted_content': None, 'query': '%23Fler', 'tweet_volume': None}, {'name': '#BVBS04', 'url': 'http://twitter.com/search?q=%23BVBS04', 'promoted_content': None, 'query': '%23BVBS04', 'tweet_volume': None}, {'name': '#bahlsen', 'url': 'http://twitter.com/search?q=%23bahlsen', 'promoted_content': None, 'query': '%23bahlsen', 'tweet_volume': None}, {'name': '#BMGKOE', 'url': 'http://twitter.com/search?q=%23BMGKOE', 'promoted_content': None, 'query': '%23BMGKOE', 'tweet_volume': None}, {'name': '#firstdates', 'url': 'http://twitter.com/search?q=%23firstdates', 'promoted_content': None, 'query': '%23firstdates', 'tweet_volume': None}, {'name': '#hartzrotgold', 'url': 'http://twitter.com/search?q=%23hartzrotgold', 'promoted_content': None, 'query': '%23hartzrotgold', 'tweet_volume': None}, {'name': '#Lanz', 'url': 'http://twitter.com/search?q=%23Lanz', 'promoted_content': None, 'query': '%23Lanz', 'tweet_volume': None}, {'name': '#HomeforWhovians', 'url': 'http://twitter.com/search?q=%23HomeforWhovians', 'promoted_content': None, 'query': '%23HomeforWhovians', 'tweet_volume': None}, {'name': '#valata', 'url': 'http://twitter.com/search?q=%23valata', 'promoted_content': None, 'query': '%23valata', 'tweet_volume': None}, {'name': '#ChampionsLeague', 'url': 'http://twitter.com/search?q=%23ChampionsLeague', 'promoted_content': None, 'query': '%23ChampionsLeague', 'tweet_volume': 20838}, {'name': '#ThankYouNamjoon', 'url': 'http://twitter.com/search?q=%23ThankYouNamjoon', 'promoted_content': None, 'query': '%23ThankYouNamjoon', 'tweet_volume': 172611}, {'name': '#Nuhr', 'url': 'http://twitter.com/search?q=%23Nuhr', 'promoted_content': None, 'query': '%23Nuhr', 'tweet_volume': None}, {'name': '#Afrika', 'url': 'http://twitter.com/search?q=%23Afrika', 'promoted_content': None, 'query': '%23Afrika', 'tweet_volume': None}, {'name': '#PSGBVB', 'url': 'http://twitter.com/search?q=%23PSGBVB', 'promoted_content': None, 'query': '%23PSGBVB', 'tweet_volume': 17316}, {'name': '#VfBDSC', 'url': 'http://twitter.com/search?q=%23VfBDSC', 'promoted_content': None, 'query': '%23VfBDSC', 'tweet_volume': None}, {'name': '#FreeCallofDuty', 'url': 'http://twitter.com/search?q=%23FreeCallofDuty', 'promoted_content': None, 'query': '%23FreeCallofDuty', 'tweet_volume': 35953}], 'as_of': '2020-03-11T08:27:05Z', 'created_at': '2020-03-11T08:20:17Z', 'locations': [{'name': 'Germany', 'woeid': 23424829}]}] <class 'list'>\n"
     ]
    }
   ],
   "source": [
    "print(test, type(test))"
   ]
  },
  {
   "cell_type": "code",
   "execution_count": 24,
   "metadata": {},
   "outputs": [],
   "source": [
    "with open(\"test.txt\", \"w\") as filehandle:\n",
    "    json.dump(test, filehandle)\n"
   ]
  },
  {
   "cell_type": "code",
   "execution_count": null,
   "metadata": {},
   "outputs": [],
   "source": []
  }
 ],
 "metadata": {
  "kernelspec": {
   "display_name": "Python 3",
   "language": "python",
   "name": "python3"
  },
  "language_info": {
   "codemirror_mode": {
    "name": "ipython",
    "version": 3
   },
   "file_extension": ".py",
   "mimetype": "text/x-python",
   "name": "python",
   "nbconvert_exporter": "python",
   "pygments_lexer": "ipython3",
   "version": "3.8.1"
  }
 },
 "nbformat": 4,
 "nbformat_minor": 4
}
