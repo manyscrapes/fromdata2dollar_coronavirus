{
 "cells": [
  {
   "cell_type": "markdown",
   "metadata": {},
   "source": [
    "Tweets von Staatsoberhäupten"
   ]
  },
  {
   "cell_type": "markdown",
   "metadata": {},
   "source": [
    "Tweepy Set Up"
   ]
  },
  {
   "cell_type": "code",
   "execution_count": 9,
   "metadata": {},
   "outputs": [],
   "source": [
    "consumer_key = \"x\"\n",
    "consumer_secret = \"x\"\n",
    "access_token = \"x\"\n",
    "access_token_secret = \"x\"\n"
   ]
  },
  {
   "cell_type": "code",
   "execution_count": 10,
   "metadata": {},
   "outputs": [],
   "source": [
    "import sys\n",
    "import json\n",
    "import pandas\n",
    "import tweepy\n",
    "from datetime import datetime"
   ]
  },
  {
   "cell_type": "code",
   "execution_count": 11,
   "metadata": {},
   "outputs": [],
   "source": [
    "auth = tweepy.OAuthHandler(consumer_key, consumer_secret)\n",
    "auth.set_access_token(access_token, access_token_secret)\n",
    "\n",
    "api = tweepy.API(auth)"
   ]
  },
  {
   "cell_type": "markdown",
   "metadata": {},
   "source": [
    "Get Tweets Donald Trump"
   ]
  },
  {
   "cell_type": "code",
   "execution_count": 12,
   "metadata": {},
   "outputs": [],
   "source": [
    "f= open(\"tweetsDT.txt\",\"w+\")\n",
    "\n",
    "for status in tweepy.Cursor(api.user_timeline, id='realDonaldTrump', tweet_mode='extended').items():\n",
    "    f.write(status.full_text)\n",
    "    f.write(\";;\")\n",
    "    time = status.created_at\n",
    "    timestr = time.strftime(\"%d-%b-%Y (%H:%M:%S.%f)\")\n",
    "    f.write(timestr)\n",
    "    f.write(\"thisismydelimiter\")\n",
    "   \n",
    "    \n",
    "f.close()"
   ]
  },
  {
   "cell_type": "markdown",
   "metadata": {},
   "source": [
    "Get Tweets Boris Johnson"
   ]
  },
  {
   "cell_type": "code",
   "execution_count": 13,
   "metadata": {},
   "outputs": [],
   "source": [
    "f= open(\"tweetsBorisJohnson.txt\",\"w+\")\n",
    "\n",
    "for status in tweepy.Cursor(api.user_timeline, id='BorisJohnson', tweet_mode='extended').items():\n",
    "    f.write(status.full_text)\n",
    "    f.write(\";;\")\n",
    "    time = status.created_at\n",
    "    timestr = time.strftime(\"%d-%b-%Y (%H:%M:%S.%f)\")\n",
    "    f.write(timestr)\n",
    "    f.write(\"thisismydelimiter\") \n",
    "    \n",
    "    \n",
    "f.close()"
   ]
  },
  {
   "cell_type": "markdown",
   "metadata": {},
   "source": [
    "Get Tweets Kurz"
   ]
  },
  {
   "cell_type": "code",
   "execution_count": 14,
   "metadata": {},
   "outputs": [],
   "source": [
    "f= open(\"tweetsKurz.txt\",\"w+\")\n",
    "\n",
    "for status in tweepy.Cursor(api.user_timeline, id='sebastiankurz', tweet_mode='extended').items():\n",
    "    f.write(status.full_text)\n",
    "    f.write(\";;\")\n",
    "    time = status.created_at\n",
    "    timestr = time.strftime(\"%d-%b-%Y (%H:%M:%S.%f)\")\n",
    "    f.write(timestr)\n",
    "    f.write(\"thisismydelimiter\")\n",
    "    \n",
    "    \n",
    "f.close()"
   ]
  },
  {
   "cell_type": "markdown",
   "metadata": {},
   "source": [
    "Get Tweets Simoneta Sommeruga"
   ]
  },
  {
   "cell_type": "code",
   "execution_count": 15,
   "metadata": {},
   "outputs": [],
   "source": [
    "f= open(\"tweetssommaruga.txt\",\"w+\")\n",
    "\n",
    "for status in tweepy.Cursor(api.user_timeline, id='s_sommaruga', tweet_mode='extended').items():\n",
    "    f.write(status.full_text)\n",
    "    f.write(\";;\")\n",
    "    time = status.created_at\n",
    "    timestr = time.strftime(\"%d-%b-%Y (%H:%M:%S.%f)\")\n",
    "    f.write(timestr)\n",
    "    f.write(\"thisismydelimiter\")  \n",
    "    \n",
    "    \n",
    "f.close()"
   ]
  },
  {
   "cell_type": "markdown",
   "metadata": {},
   "source": [
    "Italien"
   ]
  },
  {
   "cell_type": "code",
   "execution_count": 16,
   "metadata": {},
   "outputs": [],
   "source": [
    "f= open(\"tweetsConte.txt\",\"w+\")\n",
    "\n",
    "for status in tweepy.Cursor(api.user_timeline, id='GiuseppeConteIT', tweet_mode='extended').items():\n",
    "    f.write(status.full_text)\n",
    "    f.write(\";;\")\n",
    "    time = status.created_at\n",
    "    timestr = time.strftime(\"%d-%b-%Y (%H:%M:%S.%f)\")\n",
    "    f.write(timestr)\n",
    "    f.write(\"thisismydelimiter\")\n",
    "    \n",
    "    \n",
    "f.close()"
   ]
  },
  {
   "cell_type": "markdown",
   "metadata": {},
   "source": [
    "SWEDEN???"
   ]
  },
  {
   "cell_type": "code",
   "execution_count": null,
   "metadata": {},
   "outputs": [],
   "source": []
  }
 ],
 "metadata": {
  "kernelspec": {
   "display_name": "Python 3",
   "language": "python",
   "name": "python3"
  },
  "language_info": {
   "codemirror_mode": {
    "name": "ipython",
    "version": 3
   },
   "file_extension": ".py",
   "mimetype": "text/x-python",
   "name": "python",
   "nbconvert_exporter": "python",
   "pygments_lexer": "ipython3",
   "version": "3.7.4"
  }
 },
 "nbformat": 4,
 "nbformat_minor": 2
}
